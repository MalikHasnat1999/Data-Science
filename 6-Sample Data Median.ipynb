{
 "cells": [
  {
   "cell_type": "markdown",
   "id": "686c5c24",
   "metadata": {},
   "source": [
    "# \"Median of Data\"\n",
    " -Value that is in the middle"
   ]
  },
  {
   "cell_type": "code",
   "execution_count": 20,
   "id": "4808e6ac",
   "metadata": {},
   "outputs": [
    {
     "data": {
      "text/html": [
       "<div>\n",
       "<style scoped>\n",
       "    .dataframe tbody tr th:only-of-type {\n",
       "        vertical-align: middle;\n",
       "    }\n",
       "\n",
       "    .dataframe tbody tr th {\n",
       "        vertical-align: top;\n",
       "    }\n",
       "\n",
       "    .dataframe thead th {\n",
       "        text-align: right;\n",
       "    }\n",
       "</style>\n",
       "<table border=\"1\" class=\"dataframe\">\n",
       "  <thead>\n",
       "    <tr style=\"text-align: right;\">\n",
       "      <th></th>\n",
       "      <th>#</th>\n",
       "      <th>Name</th>\n",
       "      <th>Type 1</th>\n",
       "      <th>Type 2</th>\n",
       "      <th>HP</th>\n",
       "      <th>Attack</th>\n",
       "      <th>Defense</th>\n",
       "      <th>Sp. Atk</th>\n",
       "      <th>Sp. Def</th>\n",
       "      <th>Speed</th>\n",
       "      <th>Generation</th>\n",
       "      <th>Legendary</th>\n",
       "    </tr>\n",
       "  </thead>\n",
       "  <tbody>\n",
       "    <tr>\n",
       "      <th>0</th>\n",
       "      <td>1</td>\n",
       "      <td>Bulbasaur</td>\n",
       "      <td>Grass</td>\n",
       "      <td>Poison</td>\n",
       "      <td>45</td>\n",
       "      <td>49</td>\n",
       "      <td>49</td>\n",
       "      <td>65</td>\n",
       "      <td>65</td>\n",
       "      <td>45</td>\n",
       "      <td>1</td>\n",
       "      <td>False</td>\n",
       "    </tr>\n",
       "  </tbody>\n",
       "</table>\n",
       "</div>"
      ],
      "text/plain": [
       "   #       Name Type 1  Type 2  HP  Attack  Defense  Sp. Atk  Sp. Def  Speed  \\\n",
       "0  1  Bulbasaur  Grass  Poison  45      49       49       65       65     45   \n",
       "\n",
       "   Generation  Legendary  \n",
       "0           1      False  "
      ]
     },
     "execution_count": 20,
     "metadata": {},
     "output_type": "execute_result"
    }
   ],
   "source": [
    "import pandas as pd\n",
    "\n",
    "df = pd.read_csv('pokemon_data.csv')\n",
    "df.head(1)"
   ]
  },
  {
   "cell_type": "markdown",
   "id": "a4afdf54",
   "metadata": {},
   "source": [
    "## Median Row Wise"
   ]
  },
  {
   "cell_type": "code",
   "execution_count": 19,
   "id": "fcf9272b",
   "metadata": {},
   "outputs": [
    {
     "data": {
      "text/plain": [
       "0       49.0\n",
       "1       62.0\n",
       "2       82.0\n",
       "3      100.0\n",
       "4       43.0\n",
       "       ...  \n",
       "795    100.0\n",
       "796    110.0\n",
       "797     80.0\n",
       "798     80.0\n",
       "799    110.0\n",
       "Length: 800, dtype: float64"
      ]
     },
     "execution_count": 19,
     "metadata": {},
     "output_type": "execute_result"
    }
   ],
   "source": [
    "df[[\"HP\",\"Attack\",\"Defense\"]].median(axis='columns')"
   ]
  },
  {
   "cell_type": "markdown",
   "id": "771fe704",
   "metadata": {},
   "source": [
    "## Median column wise (default)"
   ]
  },
  {
   "cell_type": "code",
   "execution_count": 24,
   "id": "9e365ea8",
   "metadata": {},
   "outputs": [
    {
     "data": {
      "text/plain": [
       "HP         65.0\n",
       "Attack     75.0\n",
       "Defense    70.0\n",
       "dtype: float64"
      ]
     },
     "execution_count": 24,
     "metadata": {},
     "output_type": "execute_result"
    }
   ],
   "source": [
    "df[[\"HP\",\"Attack\",\"Defense\"]].median()\n",
    "\n",
    "# OR\n",
    "# .median(axis='index')"
   ]
  },
  {
   "cell_type": "markdown",
   "id": "33986cb7",
   "metadata": {},
   "source": [
    "## Finding Median of Specific Place in Table"
   ]
  },
  {
   "cell_type": "code",
   "execution_count": 29,
   "id": "3ecd1b63",
   "metadata": {},
   "outputs": [
    {
     "data": {
      "text/plain": [
       "HP    59.5\n",
       "dtype: float64"
      ]
     },
     "execution_count": 29,
     "metadata": {},
     "output_type": "execute_result"
    }
   ],
   "source": [
    "df[[\"HP\"]][10:20].median()"
   ]
  },
  {
   "cell_type": "code",
   "execution_count": 31,
   "id": "0beb037c",
   "metadata": {},
   "outputs": [
    {
     "data": {
      "text/plain": [
       "20    45.0\n",
       "21    60.0\n",
       "22    80.0\n",
       "23    80.0\n",
       "24    56.0\n",
       "25    81.0\n",
       "26    60.0\n",
       "27    90.0\n",
       "28    60.0\n",
       "29    85.0\n",
       "dtype: float64"
      ]
     },
     "execution_count": 31,
     "metadata": {},
     "output_type": "execute_result"
    }
   ],
   "source": [
    "# Row wise\n",
    "\n",
    "df[[\"Attack\"]][20:30].median(axis='columns')"
   ]
  },
  {
   "cell_type": "code",
   "execution_count": null,
   "id": "d470bb98",
   "metadata": {},
   "outputs": [],
   "source": []
  }
 ],
 "metadata": {
  "kernelspec": {
   "display_name": "Python 3",
   "language": "python",
   "name": "python3"
  },
  "language_info": {
   "codemirror_mode": {
    "name": "ipython",
    "version": 3
   },
   "file_extension": ".py",
   "mimetype": "text/x-python",
   "name": "python",
   "nbconvert_exporter": "python",
   "pygments_lexer": "ipython3",
   "version": "3.9.2"
  }
 },
 "nbformat": 4,
 "nbformat_minor": 5
}
