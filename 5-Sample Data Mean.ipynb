{
 "cells": [
  {
   "cell_type": "markdown",
   "id": "a51f6090",
   "metadata": {},
   "source": [
    "# \"Sample Mean of the Data\"\n",
    "-Average of the Data"
   ]
  },
  {
   "cell_type": "code",
   "execution_count": 7,
   "id": "9ad1c354",
   "metadata": {},
   "outputs": [
    {
     "data": {
      "text/html": [
       "<div>\n",
       "<style scoped>\n",
       "    .dataframe tbody tr th:only-of-type {\n",
       "        vertical-align: middle;\n",
       "    }\n",
       "\n",
       "    .dataframe tbody tr th {\n",
       "        vertical-align: top;\n",
       "    }\n",
       "\n",
       "    .dataframe thead th {\n",
       "        text-align: right;\n",
       "    }\n",
       "</style>\n",
       "<table border=\"1\" class=\"dataframe\">\n",
       "  <thead>\n",
       "    <tr style=\"text-align: right;\">\n",
       "      <th></th>\n",
       "      <th>#</th>\n",
       "      <th>Name</th>\n",
       "      <th>Type 1</th>\n",
       "      <th>Type 2</th>\n",
       "      <th>HP</th>\n",
       "      <th>Attack</th>\n",
       "      <th>Defense</th>\n",
       "      <th>Sp. Atk</th>\n",
       "      <th>Sp. Def</th>\n",
       "      <th>Speed</th>\n",
       "      <th>Generation</th>\n",
       "      <th>Legendary</th>\n",
       "    </tr>\n",
       "  </thead>\n",
       "  <tbody>\n",
       "    <tr>\n",
       "      <th>0</th>\n",
       "      <td>1</td>\n",
       "      <td>Bulbasaur</td>\n",
       "      <td>Grass</td>\n",
       "      <td>Poison</td>\n",
       "      <td>45</td>\n",
       "      <td>49</td>\n",
       "      <td>49</td>\n",
       "      <td>65</td>\n",
       "      <td>65</td>\n",
       "      <td>45</td>\n",
       "      <td>1</td>\n",
       "      <td>False</td>\n",
       "    </tr>\n",
       "    <tr>\n",
       "      <th>1</th>\n",
       "      <td>2</td>\n",
       "      <td>Ivysaur</td>\n",
       "      <td>Grass</td>\n",
       "      <td>Poison</td>\n",
       "      <td>60</td>\n",
       "      <td>62</td>\n",
       "      <td>63</td>\n",
       "      <td>80</td>\n",
       "      <td>80</td>\n",
       "      <td>60</td>\n",
       "      <td>1</td>\n",
       "      <td>False</td>\n",
       "    </tr>\n",
       "    <tr>\n",
       "      <th>2</th>\n",
       "      <td>3</td>\n",
       "      <td>Venusaur</td>\n",
       "      <td>Grass</td>\n",
       "      <td>Poison</td>\n",
       "      <td>80</td>\n",
       "      <td>82</td>\n",
       "      <td>83</td>\n",
       "      <td>100</td>\n",
       "      <td>100</td>\n",
       "      <td>80</td>\n",
       "      <td>1</td>\n",
       "      <td>False</td>\n",
       "    </tr>\n",
       "    <tr>\n",
       "      <th>3</th>\n",
       "      <td>3</td>\n",
       "      <td>VenusaurMega Venusaur</td>\n",
       "      <td>Grass</td>\n",
       "      <td>Poison</td>\n",
       "      <td>80</td>\n",
       "      <td>100</td>\n",
       "      <td>123</td>\n",
       "      <td>122</td>\n",
       "      <td>120</td>\n",
       "      <td>80</td>\n",
       "      <td>1</td>\n",
       "      <td>False</td>\n",
       "    </tr>\n",
       "    <tr>\n",
       "      <th>4</th>\n",
       "      <td>4</td>\n",
       "      <td>Charmander</td>\n",
       "      <td>Fire</td>\n",
       "      <td>NaN</td>\n",
       "      <td>39</td>\n",
       "      <td>52</td>\n",
       "      <td>43</td>\n",
       "      <td>60</td>\n",
       "      <td>50</td>\n",
       "      <td>65</td>\n",
       "      <td>1</td>\n",
       "      <td>False</td>\n",
       "    </tr>\n",
       "  </tbody>\n",
       "</table>\n",
       "</div>"
      ],
      "text/plain": [
       "   #                   Name Type 1  Type 2  HP  Attack  Defense  Sp. Atk  \\\n",
       "0  1              Bulbasaur  Grass  Poison  45      49       49       65   \n",
       "1  2                Ivysaur  Grass  Poison  60      62       63       80   \n",
       "2  3               Venusaur  Grass  Poison  80      82       83      100   \n",
       "3  3  VenusaurMega Venusaur  Grass  Poison  80     100      123      122   \n",
       "4  4             Charmander   Fire     NaN  39      52       43       60   \n",
       "\n",
       "   Sp. Def  Speed  Generation  Legendary  \n",
       "0       65     45           1      False  \n",
       "1       80     60           1      False  \n",
       "2      100     80           1      False  \n",
       "3      120     80           1      False  \n",
       "4       50     65           1      False  "
      ]
     },
     "execution_count": 7,
     "metadata": {},
     "output_type": "execute_result"
    }
   ],
   "source": [
    "import pandas as pd\n",
    "import matplotlib.pyplot as plt\n",
    "\n",
    "df = pd.read_csv('pokemon_data.csv')\n",
    "df.head(5)"
   ]
  },
  {
   "cell_type": "markdown",
   "id": "c4b7053e",
   "metadata": {},
   "source": [
    "## Taking Mean Of Columns (Row wise)"
   ]
  },
  {
   "cell_type": "code",
   "execution_count": 2,
   "id": "51513c0a",
   "metadata": {},
   "outputs": [
    {
     "data": {
      "text/plain": [
       "0     47.666667\n",
       "1     61.666667\n",
       "2     81.666667\n",
       "3    101.000000\n",
       "4     44.666667\n",
       "5     60.000000\n",
       "6     80.000000\n",
       "7    106.333333\n",
       "8     86.666667\n",
       "9     52.333333\n",
       "dtype: float64"
      ]
     },
     "execution_count": 2,
     "metadata": {},
     "output_type": "execute_result"
    }
   ],
   "source": [
    "df[[\"HP\",\"Attack\", \"Defense\"]].mean(axis='columns').head(10)"
   ]
  },
  {
   "cell_type": "markdown",
   "id": "7fa12dc1",
   "metadata": {},
   "source": [
    "## Taking Mean Of Columns (Column wise (ByDefault))"
   ]
  },
  {
   "cell_type": "code",
   "execution_count": 3,
   "id": "c963e3ee",
   "metadata": {},
   "outputs": [
    {
     "data": {
      "text/plain": [
       "Sp. Atk    72.8200\n",
       "Sp. Def    71.9025\n",
       "Speed      68.2775\n",
       "dtype: float64"
      ]
     },
     "execution_count": 3,
     "metadata": {},
     "output_type": "execute_result"
    }
   ],
   "source": [
    "df[[\"Sp. Atk\",\"Sp. Def\",\"Speed\"]].mean(axis='index')"
   ]
  },
  {
   "cell_type": "markdown",
   "id": "46430d1b",
   "metadata": {},
   "source": [
    "## Taking Mean at Specific Place in Table (Row wise)"
   ]
  },
  {
   "cell_type": "code",
   "execution_count": 4,
   "id": "08eda1c8",
   "metadata": {},
   "outputs": [
    {
     "data": {
      "text/plain": [
       "10     60.5\n",
       "11     80.5\n",
       "12     90.5\n",
       "13     37.5\n",
       "14     25.0\n",
       "15     57.5\n",
       "16     42.5\n",
       "17     30.0\n",
       "18     82.5\n",
       "19    147.5\n",
       "dtype: float64"
      ]
     },
     "execution_count": 4,
     "metadata": {},
     "output_type": "execute_result"
    }
   ],
   "source": [
    "# df[[]][columnStart : columnEnd]\n",
    "# Taking Mean From 10 to 20\n",
    "\n",
    "df[[\"Attack\",\"Speed\"]][10:20].mean(axis=\"columns\")"
   ]
  },
  {
   "cell_type": "markdown",
   "id": "e9a496bc",
   "metadata": {},
   "source": [
    "## Taking Mean at Specific Place in Table (Column Wise(ByDefault))"
   ]
  },
  {
   "cell_type": "code",
   "execution_count": 60,
   "id": "3e17f7a7",
   "metadata": {},
   "outputs": [
    {
     "data": {
      "text/plain": [
       "Defense    78.333333\n",
       "dtype: float64"
      ]
     },
     "execution_count": 60,
     "metadata": {},
     "output_type": "execute_result"
    }
   ],
   "source": [
    "df[[\"Defense\"]][5:11].mean()"
   ]
  },
  {
   "cell_type": "code",
   "execution_count": null,
   "id": "2b8cfd7c",
   "metadata": {},
   "outputs": [],
   "source": []
  },
  {
   "cell_type": "code",
   "execution_count": null,
   "id": "4d26ee50",
   "metadata": {},
   "outputs": [],
   "source": []
  }
 ],
 "metadata": {
  "kernelspec": {
   "display_name": "Python 3",
   "language": "python",
   "name": "python3"
  },
  "language_info": {
   "codemirror_mode": {
    "name": "ipython",
    "version": 3
   },
   "file_extension": ".py",
   "mimetype": "text/x-python",
   "name": "python",
   "nbconvert_exporter": "python",
   "pygments_lexer": "ipython3",
   "version": "3.9.2"
  }
 },
 "nbformat": 4,
 "nbformat_minor": 5
}
